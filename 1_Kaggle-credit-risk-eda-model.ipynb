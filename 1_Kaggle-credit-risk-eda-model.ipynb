{
 "cells": [
  {
   "cell_type": "markdown",
   "metadata": {},
   "source": [
    "## <div class=\"alert alert-block alert-success\"><b>**Business problem and plan for a solution**  </b></div>\n",
    "The goal is to predict the probability of default of a loan. This can be used to automate approving and declinin loan applications.\n",
    "**The hypothesis is to check:**\n",
    "- what features  correlate the most with Loan status\n",
    "- issuing higher grade loans to clients with better credit history and less loans to those with worse credit history\n",
    "- how ownership of the property influances the default\n",
    "- what age range is at risk\n",
    "- if higher interest rates make risk to default on loans\n",
    "    \n",
    " Will be perfomed:\n",
    "- EDA\n",
    "- Cleaning, feature engeeniring\n",
    "- Assosiation and correlations of the variables\n",
    "- Prediction using Models: Classification Logistics Regression\n",
    "\n",
    "## <div class=\"alert alert-block alert-success\"><b>**Dataset description**</div>\n",
    " N|Feature Name | Description |\n",
    "--| ----------- | ----------- |\n",
    "1 | person_age | Age\n",
    "2 | person_income | Annual Income\n",
    "3 | person_home_ownership | Home ownership\n",
    "4 | person_emp_length | Employment length (in years)\n",
    "5 | loan_intent | Loan intent\n",
    "6 | loan_grade | Loan grade\n",
    "7 | loan_amnt | Loan amount\n",
    "8 | loan_int_rate | Interest rate\n",
    "9 | loan_status | Loan status (0 is non default 1 is default)\n",
    "10| loan_percent_income | Percent income\n",
    "11| cb_person_default_on_file | Historical default\n",
    "12| cb_preson_cred_hist_length | Credit history length\n",
    "  "
   ]
  },
  {
   "cell_type": "code",
   "execution_count": 1,
   "metadata": {
    "execution": {
     "iopub.execute_input": "2023-02-25T10:12:23.802226Z",
     "iopub.status.busy": "2023-02-25T10:12:23.801742Z",
     "iopub.status.idle": "2023-02-25T10:12:27.776948Z",
     "shell.execute_reply": "2023-02-25T10:12:27.775548Z",
     "shell.execute_reply.started": "2023-02-25T10:12:23.802135Z"
    }
   },
   "outputs": [],
   "source": [
    "import pandas as pd\n",
    "import numpy as np\n",
    "\n",
    "import matplotlib.pyplot as plt\n",
    "%matplotlib inline\n",
    "plt.style.use('seaborn-darkgrid')\n",
    "import seaborn as sns\n",
    "#import plotly.express as ex\n",
    "import plotly.graph_objs as go\n",
    "import plotly.figure_factory as ff\n",
    "from plotly.subplots import make_subplots\n",
    "import plotly.offline as pyo\n",
    "\n",
    "from sklearn.feature_selection import VarianceThreshold\n",
    "\n",
    "import requests\n",
    "import warnings\n",
    "warnings.filterwarnings(\"ignore\")\n",
    "import seaborn as sns\n",
    "cm = sns.light_palette(\"green\", as_cmap=True)"
   ]
  },
  {
   "cell_type": "code",
   "execution_count": 3,
   "metadata": {
    "execution": {
     "iopub.execute_input": "2023-02-25T10:12:28.773832Z",
     "iopub.status.busy": "2023-02-25T10:12:28.772818Z",
     "iopub.status.idle": "2023-02-25T10:12:28.913116Z",
     "shell.execute_reply": "2023-02-25T10:12:28.912295Z",
     "shell.execute_reply.started": "2023-02-25T10:12:28.773798Z"
    }
   },
   "outputs": [
    {
     "data": {
      "text/html": [
       "<div>\n",
       "<style scoped>\n",
       "    .dataframe tbody tr th:only-of-type {\n",
       "        vertical-align: middle;\n",
       "    }\n",
       "\n",
       "    .dataframe tbody tr th {\n",
       "        vertical-align: top;\n",
       "    }\n",
       "\n",
       "    .dataframe thead th {\n",
       "        text-align: right;\n",
       "    }\n",
       "</style>\n",
       "<table border=\"1\" class=\"dataframe\">\n",
       "  <thead>\n",
       "    <tr style=\"text-align: right;\">\n",
       "      <th></th>\n",
       "      <th>person_age</th>\n",
       "      <th>person_income</th>\n",
       "      <th>person_emp_length</th>\n",
       "      <th>loan_amnt</th>\n",
       "      <th>loan_int_rate</th>\n",
       "      <th>loan_status</th>\n",
       "      <th>loan_percent_income</th>\n",
       "      <th>cb_person_cred_hist_length</th>\n",
       "    </tr>\n",
       "  </thead>\n",
       "  <tbody>\n",
       "    <tr>\n",
       "      <th>count</th>\n",
       "      <td>32581.000000</td>\n",
       "      <td>3.258100e+04</td>\n",
       "      <td>31686.000000</td>\n",
       "      <td>32581.000000</td>\n",
       "      <td>29465.000000</td>\n",
       "      <td>32581.000000</td>\n",
       "      <td>32581.000000</td>\n",
       "      <td>32581.000000</td>\n",
       "    </tr>\n",
       "    <tr>\n",
       "      <th>mean</th>\n",
       "      <td>27.734600</td>\n",
       "      <td>6.607485e+04</td>\n",
       "      <td>4.789686</td>\n",
       "      <td>9589.371106</td>\n",
       "      <td>11.011695</td>\n",
       "      <td>0.218164</td>\n",
       "      <td>0.170203</td>\n",
       "      <td>5.804211</td>\n",
       "    </tr>\n",
       "    <tr>\n",
       "      <th>std</th>\n",
       "      <td>6.348078</td>\n",
       "      <td>6.198312e+04</td>\n",
       "      <td>4.142630</td>\n",
       "      <td>6322.086646</td>\n",
       "      <td>3.240459</td>\n",
       "      <td>0.413006</td>\n",
       "      <td>0.106782</td>\n",
       "      <td>4.055001</td>\n",
       "    </tr>\n",
       "    <tr>\n",
       "      <th>min</th>\n",
       "      <td>20.000000</td>\n",
       "      <td>4.000000e+03</td>\n",
       "      <td>0.000000</td>\n",
       "      <td>500.000000</td>\n",
       "      <td>5.420000</td>\n",
       "      <td>0.000000</td>\n",
       "      <td>0.000000</td>\n",
       "      <td>2.000000</td>\n",
       "    </tr>\n",
       "    <tr>\n",
       "      <th>0%</th>\n",
       "      <td>20.000000</td>\n",
       "      <td>4.000000e+03</td>\n",
       "      <td>0.000000</td>\n",
       "      <td>500.000000</td>\n",
       "      <td>5.420000</td>\n",
       "      <td>0.000000</td>\n",
       "      <td>0.000000</td>\n",
       "      <td>2.000000</td>\n",
       "    </tr>\n",
       "    <tr>\n",
       "      <th>10%</th>\n",
       "      <td>22.000000</td>\n",
       "      <td>2.859000e+04</td>\n",
       "      <td>0.000000</td>\n",
       "      <td>3000.000000</td>\n",
       "      <td>6.910000</td>\n",
       "      <td>0.000000</td>\n",
       "      <td>0.050000</td>\n",
       "      <td>2.000000</td>\n",
       "    </tr>\n",
       "    <tr>\n",
       "      <th>20%</th>\n",
       "      <td>23.000000</td>\n",
       "      <td>3.500000e+04</td>\n",
       "      <td>1.000000</td>\n",
       "      <td>4400.000000</td>\n",
       "      <td>7.510000</td>\n",
       "      <td>0.000000</td>\n",
       "      <td>0.080000</td>\n",
       "      <td>3.000000</td>\n",
       "    </tr>\n",
       "    <tr>\n",
       "      <th>30%</th>\n",
       "      <td>24.000000</td>\n",
       "      <td>4.200000e+04</td>\n",
       "      <td>2.000000</td>\n",
       "      <td>5400.000000</td>\n",
       "      <td>8.900000</td>\n",
       "      <td>0.000000</td>\n",
       "      <td>0.100000</td>\n",
       "      <td>3.000000</td>\n",
       "    </tr>\n",
       "    <tr>\n",
       "      <th>40%</th>\n",
       "      <td>25.000000</td>\n",
       "      <td>4.900000e+04</td>\n",
       "      <td>3.000000</td>\n",
       "      <td>6750.000000</td>\n",
       "      <td>10.250000</td>\n",
       "      <td>0.000000</td>\n",
       "      <td>0.120000</td>\n",
       "      <td>4.000000</td>\n",
       "    </tr>\n",
       "    <tr>\n",
       "      <th>50%</th>\n",
       "      <td>26.000000</td>\n",
       "      <td>5.500000e+04</td>\n",
       "      <td>4.000000</td>\n",
       "      <td>8000.000000</td>\n",
       "      <td>10.990000</td>\n",
       "      <td>0.000000</td>\n",
       "      <td>0.150000</td>\n",
       "      <td>4.000000</td>\n",
       "    </tr>\n",
       "    <tr>\n",
       "      <th>60%</th>\n",
       "      <td>27.000000</td>\n",
       "      <td>6.300000e+04</td>\n",
       "      <td>5.000000</td>\n",
       "      <td>10000.000000</td>\n",
       "      <td>11.860000</td>\n",
       "      <td>0.000000</td>\n",
       "      <td>0.180000</td>\n",
       "      <td>5.000000</td>\n",
       "    </tr>\n",
       "    <tr>\n",
       "      <th>70%</th>\n",
       "      <td>29.000000</td>\n",
       "      <td>7.300000e+04</td>\n",
       "      <td>6.000000</td>\n",
       "      <td>12000.000000</td>\n",
       "      <td>12.870000</td>\n",
       "      <td>0.000000</td>\n",
       "      <td>0.210000</td>\n",
       "      <td>7.000000</td>\n",
       "    </tr>\n",
       "    <tr>\n",
       "      <th>80%</th>\n",
       "      <td>32.000000</td>\n",
       "      <td>8.600000e+04</td>\n",
       "      <td>8.000000</td>\n",
       "      <td>14500.000000</td>\n",
       "      <td>13.920000</td>\n",
       "      <td>1.000000</td>\n",
       "      <td>0.250000</td>\n",
       "      <td>9.000000</td>\n",
       "    </tr>\n",
       "    <tr>\n",
       "      <th>90%</th>\n",
       "      <td>36.000000</td>\n",
       "      <td>1.100040e+05</td>\n",
       "      <td>10.000000</td>\n",
       "      <td>19000.000000</td>\n",
       "      <td>15.298000</td>\n",
       "      <td>1.000000</td>\n",
       "      <td>0.320000</td>\n",
       "      <td>11.000000</td>\n",
       "    </tr>\n",
       "    <tr>\n",
       "      <th>95%</th>\n",
       "      <td>40.000000</td>\n",
       "      <td>1.380000e+05</td>\n",
       "      <td>13.000000</td>\n",
       "      <td>24000.000000</td>\n",
       "      <td>16.320000</td>\n",
       "      <td>1.000000</td>\n",
       "      <td>0.380000</td>\n",
       "      <td>14.000000</td>\n",
       "    </tr>\n",
       "    <tr>\n",
       "      <th>99%</th>\n",
       "      <td>50.000000</td>\n",
       "      <td>2.252000e+05</td>\n",
       "      <td>18.000000</td>\n",
       "      <td>29800.000000</td>\n",
       "      <td>18.620000</td>\n",
       "      <td>1.000000</td>\n",
       "      <td>0.500000</td>\n",
       "      <td>17.000000</td>\n",
       "    </tr>\n",
       "    <tr>\n",
       "      <th>max</th>\n",
       "      <td>144.000000</td>\n",
       "      <td>6.000000e+06</td>\n",
       "      <td>123.000000</td>\n",
       "      <td>35000.000000</td>\n",
       "      <td>23.220000</td>\n",
       "      <td>1.000000</td>\n",
       "      <td>0.830000</td>\n",
       "      <td>30.000000</td>\n",
       "    </tr>\n",
       "  </tbody>\n",
       "</table>\n",
       "</div>"
      ],
      "text/plain": [
       "         person_age  person_income  person_emp_length     loan_amnt  \\\n",
       "count  32581.000000   3.258100e+04       31686.000000  32581.000000   \n",
       "mean      27.734600   6.607485e+04           4.789686   9589.371106   \n",
       "std        6.348078   6.198312e+04           4.142630   6322.086646   \n",
       "min       20.000000   4.000000e+03           0.000000    500.000000   \n",
       "0%        20.000000   4.000000e+03           0.000000    500.000000   \n",
       "10%       22.000000   2.859000e+04           0.000000   3000.000000   \n",
       "20%       23.000000   3.500000e+04           1.000000   4400.000000   \n",
       "30%       24.000000   4.200000e+04           2.000000   5400.000000   \n",
       "40%       25.000000   4.900000e+04           3.000000   6750.000000   \n",
       "50%       26.000000   5.500000e+04           4.000000   8000.000000   \n",
       "60%       27.000000   6.300000e+04           5.000000  10000.000000   \n",
       "70%       29.000000   7.300000e+04           6.000000  12000.000000   \n",
       "80%       32.000000   8.600000e+04           8.000000  14500.000000   \n",
       "90%       36.000000   1.100040e+05          10.000000  19000.000000   \n",
       "95%       40.000000   1.380000e+05          13.000000  24000.000000   \n",
       "99%       50.000000   2.252000e+05          18.000000  29800.000000   \n",
       "max      144.000000   6.000000e+06         123.000000  35000.000000   \n",
       "\n",
       "       loan_int_rate   loan_status  loan_percent_income  \\\n",
       "count   29465.000000  32581.000000         32581.000000   \n",
       "mean       11.011695      0.218164             0.170203   \n",
       "std         3.240459      0.413006             0.106782   \n",
       "min         5.420000      0.000000             0.000000   \n",
       "0%          5.420000      0.000000             0.000000   \n",
       "10%         6.910000      0.000000             0.050000   \n",
       "20%         7.510000      0.000000             0.080000   \n",
       "30%         8.900000      0.000000             0.100000   \n",
       "40%        10.250000      0.000000             0.120000   \n",
       "50%        10.990000      0.000000             0.150000   \n",
       "60%        11.860000      0.000000             0.180000   \n",
       "70%        12.870000      0.000000             0.210000   \n",
       "80%        13.920000      1.000000             0.250000   \n",
       "90%        15.298000      1.000000             0.320000   \n",
       "95%        16.320000      1.000000             0.380000   \n",
       "99%        18.620000      1.000000             0.500000   \n",
       "max        23.220000      1.000000             0.830000   \n",
       "\n",
       "       cb_person_cred_hist_length  \n",
       "count                32581.000000  \n",
       "mean                     5.804211  \n",
       "std                      4.055001  \n",
       "min                      2.000000  \n",
       "0%                       2.000000  \n",
       "10%                      2.000000  \n",
       "20%                      3.000000  \n",
       "30%                      3.000000  \n",
       "40%                      4.000000  \n",
       "50%                      4.000000  \n",
       "60%                      5.000000  \n",
       "70%                      7.000000  \n",
       "80%                      9.000000  \n",
       "90%                     11.000000  \n",
       "95%                     14.000000  \n",
       "99%                     17.000000  \n",
       "max                     30.000000  "
      ]
     },
     "execution_count": 3,
     "metadata": {},
     "output_type": "execute_result"
    }
   ],
   "source": [
    "df_original = pd.read_csv(\"credit_risk_dataset.csv.zip\", skipinitialspace = True)\n",
    "df_original.describe(percentiles=[0. , 0.1, 0.2, 0.3, 0.4, 0.5, 0.6, 0.7, 0.8, 0.9, 0.95, 0.99])"
   ]
  },
  {
   "cell_type": "code",
   "execution_count": 4,
   "metadata": {
    "execution": {
     "iopub.execute_input": "2023-02-25T10:15:07.767103Z",
     "iopub.status.busy": "2023-02-25T10:15:07.766622Z",
     "iopub.status.idle": "2023-02-25T10:15:07.782278Z",
     "shell.execute_reply": "2023-02-25T10:15:07.780550Z",
     "shell.execute_reply.started": "2023-02-25T10:15:07.767069Z"
    }
   },
   "outputs": [],
   "source": [
    "# Get test sample and remove test sample from train data\n",
    "test = df_original.sample(frac = 0.1, random_state = 42).copy()\n",
    "df = df_original.drop(test.index)"
   ]
  },
  {
   "cell_type": "code",
   "execution_count": 5,
   "metadata": {
    "execution": {
     "iopub.execute_input": "2023-02-25T10:16:56.234210Z",
     "iopub.status.busy": "2023-02-25T10:16:56.233827Z",
     "iopub.status.idle": "2023-02-25T10:16:56.241974Z",
     "shell.execute_reply": "2023-02-25T10:16:56.240431Z",
     "shell.execute_reply.started": "2023-02-25T10:16:56.234179Z"
    }
   },
   "outputs": [],
   "source": [
    "y_test = test['loan_status']\n",
    "X_test = test.drop(columns = 'loan_status')"
   ]
  },
  {
   "cell_type": "code",
   "execution_count": 6,
   "metadata": {
    "execution": {
     "iopub.execute_input": "2023-02-25T10:17:34.043028Z",
     "iopub.status.busy": "2023-02-25T10:17:34.041856Z",
     "iopub.status.idle": "2023-02-25T10:17:34.047525Z",
     "shell.execute_reply": "2023-02-25T10:17:34.046698Z",
     "shell.execute_reply.started": "2023-02-25T10:17:34.042953Z"
    }
   },
   "outputs": [],
   "source": [
    "del test"
   ]
  },
  {
   "cell_type": "code",
   "execution_count": 7,
   "metadata": {
    "execution": {
     "iopub.execute_input": "2023-02-25T10:38:53.355683Z",
     "iopub.status.busy": "2023-02-25T10:38:53.355097Z",
     "iopub.status.idle": "2023-02-25T10:38:53.396205Z",
     "shell.execute_reply": "2023-02-25T10:38:53.395529Z",
     "shell.execute_reply.started": "2023-02-25T10:38:53.355649Z"
    }
   },
   "outputs": [
    {
     "data": {
      "text/html": [
       "<div>\n",
       "<style scoped>\n",
       "    .dataframe tbody tr th:only-of-type {\n",
       "        vertical-align: middle;\n",
       "    }\n",
       "\n",
       "    .dataframe tbody tr th {\n",
       "        vertical-align: top;\n",
       "    }\n",
       "\n",
       "    .dataframe thead th {\n",
       "        text-align: right;\n",
       "    }\n",
       "</style>\n",
       "<table border=\"1\" class=\"dataframe\">\n",
       "  <thead>\n",
       "    <tr style=\"text-align: right;\">\n",
       "      <th></th>\n",
       "      <th>person_age</th>\n",
       "      <th>person_income</th>\n",
       "      <th>person_emp_length</th>\n",
       "      <th>loan_amnt</th>\n",
       "      <th>loan_int_rate</th>\n",
       "      <th>loan_status</th>\n",
       "      <th>loan_percent_income</th>\n",
       "      <th>cb_person_cred_hist_length</th>\n",
       "    </tr>\n",
       "  </thead>\n",
       "  <tbody>\n",
       "    <tr>\n",
       "      <th>count</th>\n",
       "      <td>29323.000000</td>\n",
       "      <td>2.932300e+04</td>\n",
       "      <td>28521.000000</td>\n",
       "      <td>29323.000000</td>\n",
       "      <td>26523.000000</td>\n",
       "      <td>29323.000000</td>\n",
       "      <td>29323.000000</td>\n",
       "      <td>29323.00000</td>\n",
       "    </tr>\n",
       "    <tr>\n",
       "      <th>mean</th>\n",
       "      <td>27.754288</td>\n",
       "      <td>6.617659e+04</td>\n",
       "      <td>4.783177</td>\n",
       "      <td>9599.156805</td>\n",
       "      <td>11.011271</td>\n",
       "      <td>0.216554</td>\n",
       "      <td>0.170218</td>\n",
       "      <td>5.81107</td>\n",
       "    </tr>\n",
       "    <tr>\n",
       "      <th>std</th>\n",
       "      <td>6.369895</td>\n",
       "      <td>6.318703e+04</td>\n",
       "      <td>4.092382</td>\n",
       "      <td>6330.565134</td>\n",
       "      <td>3.235866</td>\n",
       "      <td>0.411903</td>\n",
       "      <td>0.106869</td>\n",
       "      <td>4.05248</td>\n",
       "    </tr>\n",
       "    <tr>\n",
       "      <th>min</th>\n",
       "      <td>20.000000</td>\n",
       "      <td>4.000000e+03</td>\n",
       "      <td>0.000000</td>\n",
       "      <td>500.000000</td>\n",
       "      <td>5.420000</td>\n",
       "      <td>0.000000</td>\n",
       "      <td>0.000000</td>\n",
       "      <td>2.00000</td>\n",
       "    </tr>\n",
       "    <tr>\n",
       "      <th>0%</th>\n",
       "      <td>20.000000</td>\n",
       "      <td>4.000000e+03</td>\n",
       "      <td>0.000000</td>\n",
       "      <td>500.000000</td>\n",
       "      <td>5.420000</td>\n",
       "      <td>0.000000</td>\n",
       "      <td>0.000000</td>\n",
       "      <td>2.00000</td>\n",
       "    </tr>\n",
       "    <tr>\n",
       "      <th>10%</th>\n",
       "      <td>22.000000</td>\n",
       "      <td>2.880000e+04</td>\n",
       "      <td>0.000000</td>\n",
       "      <td>3000.000000</td>\n",
       "      <td>6.910000</td>\n",
       "      <td>0.000000</td>\n",
       "      <td>0.050000</td>\n",
       "      <td>2.00000</td>\n",
       "    </tr>\n",
       "    <tr>\n",
       "      <th>20%</th>\n",
       "      <td>23.000000</td>\n",
       "      <td>3.500000e+04</td>\n",
       "      <td>1.000000</td>\n",
       "      <td>4400.000000</td>\n",
       "      <td>7.510000</td>\n",
       "      <td>0.000000</td>\n",
       "      <td>0.080000</td>\n",
       "      <td>3.00000</td>\n",
       "    </tr>\n",
       "    <tr>\n",
       "      <th>30%</th>\n",
       "      <td>24.000000</td>\n",
       "      <td>4.200000e+04</td>\n",
       "      <td>2.000000</td>\n",
       "      <td>5465.000000</td>\n",
       "      <td>8.900000</td>\n",
       "      <td>0.000000</td>\n",
       "      <td>0.100000</td>\n",
       "      <td>3.00000</td>\n",
       "    </tr>\n",
       "    <tr>\n",
       "      <th>40%</th>\n",
       "      <td>25.000000</td>\n",
       "      <td>4.900000e+04</td>\n",
       "      <td>3.000000</td>\n",
       "      <td>6725.000000</td>\n",
       "      <td>10.250000</td>\n",
       "      <td>0.000000</td>\n",
       "      <td>0.120000</td>\n",
       "      <td>4.00000</td>\n",
       "    </tr>\n",
       "    <tr>\n",
       "      <th>50%</th>\n",
       "      <td>26.000000</td>\n",
       "      <td>5.500000e+04</td>\n",
       "      <td>4.000000</td>\n",
       "      <td>8000.000000</td>\n",
       "      <td>10.990000</td>\n",
       "      <td>0.000000</td>\n",
       "      <td>0.150000</td>\n",
       "      <td>4.00000</td>\n",
       "    </tr>\n",
       "    <tr>\n",
       "      <th>60%</th>\n",
       "      <td>27.000000</td>\n",
       "      <td>6.300000e+04</td>\n",
       "      <td>5.000000</td>\n",
       "      <td>10000.000000</td>\n",
       "      <td>11.860000</td>\n",
       "      <td>0.000000</td>\n",
       "      <td>0.180000</td>\n",
       "      <td>5.00000</td>\n",
       "    </tr>\n",
       "    <tr>\n",
       "      <th>70%</th>\n",
       "      <td>29.000000</td>\n",
       "      <td>7.300000e+04</td>\n",
       "      <td>6.000000</td>\n",
       "      <td>12000.000000</td>\n",
       "      <td>12.870000</td>\n",
       "      <td>0.000000</td>\n",
       "      <td>0.210000</td>\n",
       "      <td>7.00000</td>\n",
       "    </tr>\n",
       "    <tr>\n",
       "      <th>80%</th>\n",
       "      <td>32.000000</td>\n",
       "      <td>8.600400e+04</td>\n",
       "      <td>8.000000</td>\n",
       "      <td>14575.000000</td>\n",
       "      <td>13.920000</td>\n",
       "      <td>1.000000</td>\n",
       "      <td>0.250000</td>\n",
       "      <td>9.00000</td>\n",
       "    </tr>\n",
       "    <tr>\n",
       "      <th>90%</th>\n",
       "      <td>36.000000</td>\n",
       "      <td>1.104000e+05</td>\n",
       "      <td>10.000000</td>\n",
       "      <td>19075.000000</td>\n",
       "      <td>15.280000</td>\n",
       "      <td>1.000000</td>\n",
       "      <td>0.320000</td>\n",
       "      <td>11.00000</td>\n",
       "    </tr>\n",
       "    <tr>\n",
       "      <th>95%</th>\n",
       "      <td>40.000000</td>\n",
       "      <td>1.380000e+05</td>\n",
       "      <td>13.000000</td>\n",
       "      <td>24000.000000</td>\n",
       "      <td>16.320000</td>\n",
       "      <td>1.000000</td>\n",
       "      <td>0.380000</td>\n",
       "      <td>14.00000</td>\n",
       "    </tr>\n",
       "    <tr>\n",
       "      <th>99%</th>\n",
       "      <td>50.000000</td>\n",
       "      <td>2.257800e+05</td>\n",
       "      <td>17.800000</td>\n",
       "      <td>30000.000000</td>\n",
       "      <td>18.530000</td>\n",
       "      <td>1.000000</td>\n",
       "      <td>0.500000</td>\n",
       "      <td>17.00000</td>\n",
       "    </tr>\n",
       "    <tr>\n",
       "      <th>max</th>\n",
       "      <td>144.000000</td>\n",
       "      <td>6.000000e+06</td>\n",
       "      <td>123.000000</td>\n",
       "      <td>35000.000000</td>\n",
       "      <td>22.480000</td>\n",
       "      <td>1.000000</td>\n",
       "      <td>0.830000</td>\n",
       "      <td>30.00000</td>\n",
       "    </tr>\n",
       "  </tbody>\n",
       "</table>\n",
       "</div>"
      ],
      "text/plain": [
       "         person_age  person_income  person_emp_length     loan_amnt  \\\n",
       "count  29323.000000   2.932300e+04       28521.000000  29323.000000   \n",
       "mean      27.754288   6.617659e+04           4.783177   9599.156805   \n",
       "std        6.369895   6.318703e+04           4.092382   6330.565134   \n",
       "min       20.000000   4.000000e+03           0.000000    500.000000   \n",
       "0%        20.000000   4.000000e+03           0.000000    500.000000   \n",
       "10%       22.000000   2.880000e+04           0.000000   3000.000000   \n",
       "20%       23.000000   3.500000e+04           1.000000   4400.000000   \n",
       "30%       24.000000   4.200000e+04           2.000000   5465.000000   \n",
       "40%       25.000000   4.900000e+04           3.000000   6725.000000   \n",
       "50%       26.000000   5.500000e+04           4.000000   8000.000000   \n",
       "60%       27.000000   6.300000e+04           5.000000  10000.000000   \n",
       "70%       29.000000   7.300000e+04           6.000000  12000.000000   \n",
       "80%       32.000000   8.600400e+04           8.000000  14575.000000   \n",
       "90%       36.000000   1.104000e+05          10.000000  19075.000000   \n",
       "95%       40.000000   1.380000e+05          13.000000  24000.000000   \n",
       "99%       50.000000   2.257800e+05          17.800000  30000.000000   \n",
       "max      144.000000   6.000000e+06         123.000000  35000.000000   \n",
       "\n",
       "       loan_int_rate   loan_status  loan_percent_income  \\\n",
       "count   26523.000000  29323.000000         29323.000000   \n",
       "mean       11.011271      0.216554             0.170218   \n",
       "std         3.235866      0.411903             0.106869   \n",
       "min         5.420000      0.000000             0.000000   \n",
       "0%          5.420000      0.000000             0.000000   \n",
       "10%         6.910000      0.000000             0.050000   \n",
       "20%         7.510000      0.000000             0.080000   \n",
       "30%         8.900000      0.000000             0.100000   \n",
       "40%        10.250000      0.000000             0.120000   \n",
       "50%        10.990000      0.000000             0.150000   \n",
       "60%        11.860000      0.000000             0.180000   \n",
       "70%        12.870000      0.000000             0.210000   \n",
       "80%        13.920000      1.000000             0.250000   \n",
       "90%        15.280000      1.000000             0.320000   \n",
       "95%        16.320000      1.000000             0.380000   \n",
       "99%        18.530000      1.000000             0.500000   \n",
       "max        22.480000      1.000000             0.830000   \n",
       "\n",
       "       cb_person_cred_hist_length  \n",
       "count                 29323.00000  \n",
       "mean                      5.81107  \n",
       "std                       4.05248  \n",
       "min                       2.00000  \n",
       "0%                        2.00000  \n",
       "10%                       2.00000  \n",
       "20%                       3.00000  \n",
       "30%                       3.00000  \n",
       "40%                       4.00000  \n",
       "50%                       4.00000  \n",
       "60%                       5.00000  \n",
       "70%                       7.00000  \n",
       "80%                       9.00000  \n",
       "90%                      11.00000  \n",
       "95%                      14.00000  \n",
       "99%                      17.00000  \n",
       "max                      30.00000  "
      ]
     },
     "execution_count": 7,
     "metadata": {},
     "output_type": "execute_result"
    }
   ],
   "source": [
    "\n",
    "df.describe(percentiles=[0. , 0.1, 0.2, 0.3, 0.4, 0.5, 0.6, 0.7, 0.8, 0.9, 0.95, 0.99])"
   ]
  },
  {
   "cell_type": "code",
   "execution_count": 10,
   "metadata": {},
   "outputs": [
    {
     "data": {
      "text/plain": [
       "((29323, 12), (3258, 11))"
      ]
     },
     "execution_count": 10,
     "metadata": {},
     "output_type": "execute_result"
    }
   ],
   "source": [
    "df.shape, X_test.shape"
   ]
  },
  {
   "cell_type": "code",
   "execution_count": 11,
   "metadata": {
    "execution": {
     "iopub.execute_input": "2023-02-25T10:31:16.646041Z",
     "iopub.status.busy": "2023-02-25T10:31:16.645637Z",
     "iopub.status.idle": "2023-02-25T10:31:16.650138Z",
     "shell.execute_reply": "2023-02-25T10:31:16.649224Z",
     "shell.execute_reply.started": "2023-02-25T10:31:16.645993Z"
    }
   },
   "outputs": [],
   "source": [
    "config = {\n",
    "    'threshold_age': 50}"
   ]
  },
  {
   "cell_type": "code",
   "execution_count": null,
   "metadata": {
    "execution": {
     "iopub.execute_input": "2023-02-25T11:05:06.022358Z",
     "iopub.status.busy": "2023-02-25T11:05:06.021958Z",
     "iopub.status.idle": "2023-02-25T11:05:06.028505Z",
     "shell.execute_reply": "2023-02-25T11:05:06.027709Z",
     "shell.execute_reply.started": "2023-02-25T11:05:06.022330Z"
    }
   },
   "outputs": [],
   "source": [
    "def preproc_data(data, config):\n",
    "    \n",
    "    df_train = data.copy()\n",
    "    df_train.loc[df_train['person_age']>config['threshold_age'], 'person_age'] = config['threshold_age']\n",
    "    df_train.loc[df_train['person_income']>225200.0, 'person_income'] = 225200.0\n",
    "    df_train.loc[df_train['person_emp_length']>18, 'person_emp_length'] = 18\n",
    "    df_train.loc[df_train['person_home_ownership']=='OTHER', \"person_home_ownership\"] = \"RENT\"\n",
    "    return df_train"
   ]
  },
  {
   "cell_type": "code",
   "execution_count": null,
   "metadata": {},
   "outputs": [],
   "source": [
    "# df.loc[df['person_age']>50, 'person_age'] = 50\n",
    "# df.loc[df['person_income']>225200.0, 'person_income'] = 225200.0\n",
    "# df.loc[df['person_emp_length']>18, 'person_emp_length'] = 18"
   ]
  },
  {
   "cell_type": "code",
   "execution_count": null,
   "metadata": {
    "execution": {
     "iopub.execute_input": "2023-02-25T11:05:11.795933Z",
     "iopub.status.busy": "2023-02-25T11:05:11.794592Z",
     "iopub.status.idle": "2023-02-25T11:05:11.817645Z",
     "shell.execute_reply": "2023-02-25T11:05:11.816154Z",
     "shell.execute_reply.started": "2023-02-25T11:05:11.795874Z"
    }
   },
   "outputs": [],
   "source": [
    "df = preproc_data(data =df , config = config)"
   ]
  },
  {
   "cell_type": "code",
   "execution_count": null,
   "metadata": {
    "execution": {
     "iopub.execute_input": "2023-02-25T10:39:08.840842Z",
     "iopub.status.busy": "2023-02-25T10:39:08.840098Z",
     "iopub.status.idle": "2023-02-25T10:39:08.893808Z",
     "shell.execute_reply": "2023-02-25T10:39:08.892232Z",
     "shell.execute_reply.started": "2023-02-25T10:39:08.840801Z"
    }
   },
   "outputs": [],
   "source": [
    "for jcol in df.dtypes[df.dtypes=='object'].index:\n",
    "    tmp_vc = df[jcol].value_counts(normalize=True).to_frame()\n",
    "    tmp_vc.columns = ['share']\n",
    "    mean_t = df.groupby(jcol)['loan_status'].mean().to_frame()\n",
    "    mean_t.columns = ['mean_loan_status']\n",
    "    print(jcol, '\\n', tmp_vc.join(mean_t).round(4).sort_values('mean_loan_status'),'\\n')"
   ]
  },
  {
   "cell_type": "code",
   "execution_count": null,
   "metadata": {
    "execution": {
     "iopub.execute_input": "2023-02-25T10:44:35.884302Z",
     "iopub.status.busy": "2023-02-25T10:44:35.883873Z",
     "iopub.status.idle": "2023-02-25T10:44:35.909777Z",
     "shell.execute_reply": "2023-02-25T10:44:35.908149Z",
     "shell.execute_reply.started": "2023-02-25T10:44:35.884266Z"
    }
   },
   "outputs": [],
   "source": [
    "df.groupby(['meta_grade', 'person_home_ownership']\n",
    ")['loan_status'].mean().unstack(-1).style.background_gradient(cmap=cm)"
   ]
  },
  {
   "cell_type": "code",
   "execution_count": null,
   "metadata": {
    "execution": {
     "iopub.execute_input": "2023-02-25T10:45:28.398503Z",
     "iopub.status.busy": "2023-02-25T10:45:28.398118Z",
     "iopub.status.idle": "2023-02-25T10:45:28.422142Z",
     "shell.execute_reply": "2023-02-25T10:45:28.420924Z",
     "shell.execute_reply.started": "2023-02-25T10:45:28.398472Z"
    }
   },
   "outputs": [],
   "source": [
    "df.groupby(['loan_grade', 'person_home_ownership']\n",
    ")['loan_status'].mean().unstack(-1).style.background_gradient(cmap=cm)"
   ]
  },
  {
   "cell_type": "markdown",
   "metadata": {},
   "source": [
    "We will combine together similar groups that don't differ much"
   ]
  },
  {
   "cell_type": "code",
   "execution_count": null,
   "metadata": {},
   "outputs": [],
   "source": [
    "# df.query('loan_grade == \"G\" & person_home_ownership == \"MORTGAGE\"')"
   ]
  },
  {
   "cell_type": "code",
   "execution_count": null,
   "metadata": {
    "execution": {
     "iopub.execute_input": "2023-02-25T10:44:31.118682Z",
     "iopub.status.busy": "2023-02-25T10:44:31.118211Z",
     "iopub.status.idle": "2023-02-25T10:44:31.126764Z",
     "shell.execute_reply": "2023-02-25T10:44:31.124606Z",
     "shell.execute_reply.started": "2023-02-25T10:44:31.118642Z"
    }
   },
   "outputs": [],
   "source": [
    "df['meta_grade'] = df['loan_grade']"
   ]
  },
  {
   "cell_type": "code",
   "execution_count": null,
   "metadata": {
    "execution": {
     "iopub.execute_input": "2023-02-25T10:44:33.207609Z",
     "iopub.status.busy": "2023-02-25T10:44:33.207195Z",
     "iopub.status.idle": "2023-02-25T10:44:33.235810Z",
     "shell.execute_reply": "2023-02-25T10:44:33.234501Z",
     "shell.execute_reply.started": "2023-02-25T10:44:33.207578Z"
    }
   },
   "outputs": [],
   "source": [
    "df.loc[(df['person_home_ownership'] == 'OWN') \n",
    "        & (df['loan_grade'].isin(['A', 'B', 'C', 'D'])), 'meta_grade'] = 'A'\n",
    "df.loc[(df['person_home_ownership'] == 'RENT') \n",
    "        & (df['loan_grade'].isin(['D', 'E', 'F'])), 'meta_grade'] = 'D'\n",
    "df.loc[(df['person_home_ownership'] == 'OWN') \n",
    "        & (df['loan_grade'].isin(['E', 'F'])), 'meta_grade'] = 'E'\n",
    "df.loc[(df['person_home_ownership'] == 'RENT') \n",
    "        & (df['loan_grade'].isin(['B', 'C'])), 'meta_grade'] = 'B'"
   ]
  },
  {
   "cell_type": "code",
   "execution_count": null,
   "metadata": {
    "execution": {
     "iopub.execute_input": "2023-02-25T11:06:42.134379Z",
     "iopub.status.busy": "2023-02-25T11:06:42.133658Z",
     "iopub.status.idle": "2023-02-25T11:06:42.157853Z",
     "shell.execute_reply": "2023-02-25T11:06:42.157195Z",
     "shell.execute_reply.started": "2023-02-25T11:06:42.134330Z"
    }
   },
   "outputs": [],
   "source": [
    "df.groupby(['person_home_ownership', 'loan_intent']\n",
    ")['loan_status'].mean().unstack(-1).style.background_gradient(cmap=cm)"
   ]
  },
  {
   "cell_type": "code",
   "execution_count": null,
   "metadata": {
    "execution": {
     "iopub.execute_input": "2023-02-25T11:06:49.637641Z",
     "iopub.status.busy": "2023-02-25T11:06:49.637284Z",
     "iopub.status.idle": "2023-02-25T11:06:49.648682Z",
     "shell.execute_reply": "2023-02-25T11:06:49.647094Z",
     "shell.execute_reply.started": "2023-02-25T11:06:49.637612Z"
    }
   },
   "outputs": [],
   "source": [
    "df.loc[(df['loan_intent'] == 'VENTURE') \n",
    "        & (df['person_home_ownership'].isin(['MORTGAGE', 'OWN'])), 'person_home_ownership'] = 'MORTGAGE'"
   ]
  },
  {
   "cell_type": "code",
   "execution_count": null,
   "metadata": {
    "execution": {
     "iopub.execute_input": "2023-02-25T11:08:41.125957Z",
     "iopub.status.busy": "2023-02-25T11:08:41.125334Z",
     "iopub.status.idle": "2023-02-25T11:08:41.154573Z",
     "shell.execute_reply": "2023-02-25T11:08:41.153558Z",
     "shell.execute_reply.started": "2023-02-25T11:08:41.125922Z"
    }
   },
   "outputs": [],
   "source": [
    "df.groupby(['loan_grade', 'loan_intent'])['loan_status'].mean().unstack(-1).style.background_gradient(cmap=cm)"
   ]
  },
  {
   "cell_type": "code",
   "execution_count": null,
   "metadata": {
    "execution": {
     "iopub.execute_input": "2023-02-25T11:08:39.354379Z",
     "iopub.status.busy": "2023-02-25T11:08:39.353975Z",
     "iopub.status.idle": "2023-02-25T11:08:39.373590Z",
     "shell.execute_reply": "2023-02-25T11:08:39.371533Z",
     "shell.execute_reply.started": "2023-02-25T11:08:39.354347Z"
    }
   },
   "outputs": [],
   "source": [
    "df.loc[(df['loan_intent'] == 'DEBTCONSOLIDATION') & (df['loan_grade'].isin(['D','E', 'F', 'G'])), 'loan_grade'] = 'D'\n",
    "df.loc[(df['loan_intent'] == 'MEDICAL') & (df['loan_grade'].isin(['E', 'F', 'G'])), 'loan_grade'] = 'E'"
   ]
  },
  {
   "cell_type": "code",
   "execution_count": null,
   "metadata": {
    "execution": {
     "iopub.execute_input": "2023-02-25T11:08:44.561113Z",
     "iopub.status.busy": "2023-02-25T11:08:44.560717Z",
     "iopub.status.idle": "2023-02-25T11:08:44.694904Z",
     "shell.execute_reply": "2023-02-25T11:08:44.694054Z",
     "shell.execute_reply.started": "2023-02-25T11:08:44.561078Z"
    }
   },
   "outputs": [],
   "source": [
    "df.groupby(['loan_grade', 'loan_percent_income'])['loan_status'].mean().unstack(-1).style.background_gradient(cmap=cm)"
   ]
  },
  {
   "cell_type": "code",
   "execution_count": null,
   "metadata": {
    "execution": {
     "iopub.execute_input": "2023-02-25T11:09:38.231305Z",
     "iopub.status.busy": "2023-02-25T11:09:38.230881Z",
     "iopub.status.idle": "2023-02-25T11:09:38.246285Z",
     "shell.execute_reply": "2023-02-25T11:09:38.245409Z",
     "shell.execute_reply.started": "2023-02-25T11:09:38.231271Z"
    }
   },
   "outputs": [],
   "source": [
    "df.groupby(['loan_percent_income'])['loan_status'].mean().head(40)"
   ]
  },
  {
   "cell_type": "code",
   "execution_count": null,
   "metadata": {
    "execution": {
     "iopub.execute_input": "2023-02-25T11:11:20.936474Z",
     "iopub.status.busy": "2023-02-25T11:11:20.936085Z",
     "iopub.status.idle": "2023-02-25T11:11:20.956831Z",
     "shell.execute_reply": "2023-02-25T11:11:20.955182Z",
     "shell.execute_reply.started": "2023-02-25T11:11:20.936443Z"
    }
   },
   "outputs": [],
   "source": [
    "df['q_loan_percent_income'] = pd.qcut(df['loan_percent_income'],bins = 5)"
   ]
  },
  {
   "cell_type": "code",
   "execution_count": null,
   "metadata": {
    "execution": {
     "iopub.execute_input": "2023-02-25T11:09:47.961395Z",
     "iopub.status.busy": "2023-02-25T11:09:47.960779Z",
     "iopub.status.idle": "2023-02-25T11:09:47.987766Z",
     "shell.execute_reply": "2023-02-25T11:09:47.986576Z",
     "shell.execute_reply.started": "2023-02-25T11:09:47.961361Z"
    }
   },
   "outputs": [],
   "source": [
    "df['bin_loan_percent_income'] = pd.cut(df['loan_percent_income'],bins = 5, labels = ['1','2',' 3', '4', '5'])\n",
    "df_cat = df.select_dtypes(include = ['object', 'category'])\n",
    "df_cat"
   ]
  },
  {
   "cell_type": "code",
   "execution_count": null,
   "metadata": {
    "execution": {
     "iopub.execute_input": "2023-02-25T11:11:28.529079Z",
     "iopub.status.busy": "2023-02-25T11:11:28.528237Z",
     "iopub.status.idle": "2023-02-25T11:11:28.781153Z",
     "shell.execute_reply": "2023-02-25T11:11:28.779807Z",
     "shell.execute_reply.started": "2023-02-25T11:11:28.529046Z"
    }
   },
   "outputs": [],
   "source": [
    "from category_encoders import TargetEncoder\n",
    "encoder = TargetEncoder()\n",
    "df['encoded_bin_loan_percent_income'] = encoder.fit_transform(df['bin_loan_percent_income'], df['loan_status'])\n",
    "df['encoded_bin_loan_percent_income']"
   ]
  },
  {
   "cell_type": "code",
   "execution_count": null,
   "metadata": {
    "execution": {
     "iopub.execute_input": "2023-02-25T11:14:19.162503Z",
     "iopub.status.busy": "2023-02-25T11:14:19.162094Z",
     "iopub.status.idle": "2023-02-25T11:14:19.174693Z",
     "shell.execute_reply": "2023-02-25T11:14:19.173717Z",
     "shell.execute_reply.started": "2023-02-25T11:14:19.162472Z"
    }
   },
   "outputs": [],
   "source": [
    "df.drop(columns = ['bin_loan_percent_income', 'loan_percent_income'], inplace = True)\n",
    "df.columns"
   ]
  },
  {
   "cell_type": "code",
   "execution_count": null,
   "metadata": {
    "execution": {
     "iopub.execute_input": "2023-02-25T11:14:46.270241Z",
     "iopub.status.busy": "2023-02-25T11:14:46.269610Z",
     "iopub.status.idle": "2023-02-25T11:14:46.288100Z",
     "shell.execute_reply": "2023-02-25T11:14:46.286062Z",
     "shell.execute_reply.started": "2023-02-25T11:14:46.270208Z"
    }
   },
   "outputs": [],
   "source": [
    "null_values = (df.isnull().sum().sort_values(ascending = False)*100 / len(df)).round(2)\n",
    "null_values"
   ]
  },
  {
   "cell_type": "code",
   "execution_count": null,
   "metadata": {
    "execution": {
     "iopub.execute_input": "2023-02-25T11:14:50.945712Z",
     "iopub.status.busy": "2023-02-25T11:14:50.945359Z",
     "iopub.status.idle": "2023-02-25T11:14:51.173907Z",
     "shell.execute_reply": "2023-02-25T11:14:51.172291Z",
     "shell.execute_reply.started": "2023-02-25T11:14:50.945683Z"
    }
   },
   "outputs": [],
   "source": [
    "# Fill Null values with mean as they are only in numerical columns and outliers are already removed\n",
    "df.fillna(df.mean(), inplace = True)"
   ]
  },
  {
   "cell_type": "code",
   "execution_count": null,
   "metadata": {},
   "outputs": [],
   "source": [
    "#df[['person_emp_length', 'loan_int_rate']].describe()"
   ]
  },
  {
   "cell_type": "code",
   "execution_count": null,
   "metadata": {},
   "outputs": [],
   "source": [
    "# x = df.drop(labels = ['loan_status'], axis = 1)\n",
    "# y = df.loan_status\n",
    "#df['loan_status'] = df['loan_status'].astype('category', copy=False)\n",
    "# df_num = df.select_dtypes(include = 'number')\n",
    "# df_cat = df.select_dtypes(include = ['object', 'category'])\n",
    "# df_num.shape, df_cat.shape"
   ]
  },
  {
   "cell_type": "code",
   "execution_count": null,
   "metadata": {},
   "outputs": [],
   "source": [
    "# # summarize the number of rows with missing values for each column\n",
    "# for i in range(df.shape[1]):\n",
    "#     # count number of rows with missing values\n",
    "#     n_miss = df.iloc[:,i].isnull().sum()\n",
    "#     perc = n_miss / df.shape[0] * 100\n",
    "#     print('> %d, Missing: %d (%.1f%%)' % (i, n_miss, perc))"
   ]
  },
  {
   "cell_type": "code",
   "execution_count": null,
   "metadata": {
    "execution": {
     "iopub.execute_input": "2023-02-25T11:14:56.480683Z",
     "iopub.status.busy": "2023-02-25T11:14:56.480234Z",
     "iopub.status.idle": "2023-02-25T11:14:56.666406Z",
     "shell.execute_reply": "2023-02-25T11:14:56.665301Z",
     "shell.execute_reply.started": "2023-02-25T11:14:56.480642Z"
    }
   },
   "outputs": [],
   "source": [
    "loan_st = df['loan_status'].value_counts(normalize = True)\n",
    "ax = loan_st.plot(kind = 'bar')\n",
    "ax.bar_label(ax.containers[-1], label_type='edge')\n",
    "\n",
    "plt.title(\"Loan Status\",fontsize=10)\n",
    "plt.show()\n",
    "print('Our target var is imbalanced')\n",
    "print(df['loan_status'].value_counts())"
   ]
  },
  {
   "cell_type": "markdown",
   "metadata": {},
   "source": [
    "**One of the treatment against imbalanced data is Resampling (Oversampling and Undersampling**"
   ]
  },
  {
   "cell_type": "code",
   "execution_count": null,
   "metadata": {},
   "outputs": [],
   "source": [
    "# from sklearn.utils import resample\n",
    "# #create two different dataframe of majority and minority class \n",
    "# df_majority = df[(df['loan_status']==0)] \n",
    "# df_minority = df[(df['loan_status']==1)] \n",
    "# # upsample minority class\n",
    "# df_minority_upsampled = resample(df_minority, \n",
    "#                                  replace=True,    # sample with replacement\n",
    "#                                  n_samples= 25473, # to match majority class\n",
    "#                                  random_state=42)  # reproducible results\n",
    "# # Combine majority class with upsampled minority class\n",
    "# df_upsampled = pd.concat([df_minority_upsampled, df_majority])"
   ]
  },
  {
   "cell_type": "code",
   "execution_count": null,
   "metadata": {},
   "outputs": [],
   "source": [
    "#df_upsampled.loan_status.value_counts()"
   ]
  },
  {
   "cell_type": "code",
   "execution_count": null,
   "metadata": {},
   "outputs": [],
   "source": [
    "#sns.countplot(df_upsampled['loan_status'])"
   ]
  },
  {
   "cell_type": "markdown",
   "metadata": {},
   "source": [
    "## <div class=\"alert alert-block alert-success\"><b>EDA and Data Analysis</div>"
   ]
  },
  {
   "cell_type": "code",
   "execution_count": null,
   "metadata": {
    "execution": {
     "iopub.execute_input": "2023-02-25T11:15:01.799941Z",
     "iopub.status.busy": "2023-02-25T11:15:01.799508Z",
     "iopub.status.idle": "2023-02-25T11:15:01.972592Z",
     "shell.execute_reply": "2023-02-25T11:15:01.971311Z",
     "shell.execute_reply.started": "2023-02-25T11:15:01.799911Z"
    }
   },
   "outputs": [],
   "source": [
    "q = df[['loan_status', 'encoded_bin_loan_percent_income']]\n",
    "f, ax = plt.subplots(figsize = (12, 6));\n",
    "sns.boxplot(x = 'loan_status', y = 'encoded_bin_loan_percent_income', data = q, palette = 'Set1')\n",
    "plt.title('Loan % income for Loan Status')\n",
    "plt.xlabel('Loan Status', fontsize = 15)\n",
    "plt.ylabel('Loan Percent Income', fontsize = 15)"
   ]
  },
  {
   "cell_type": "code",
   "execution_count": null,
   "metadata": {
    "execution": {
     "iopub.execute_input": "2023-02-25T11:15:04.353688Z",
     "iopub.status.busy": "2023-02-25T11:15:04.353266Z",
     "iopub.status.idle": "2023-02-25T11:15:06.016270Z",
     "shell.execute_reply": "2023-02-25T11:15:06.015034Z",
     "shell.execute_reply.started": "2023-02-25T11:15:04.353655Z"
    }
   },
   "outputs": [],
   "source": [
    "fig, axs = plt.subplots(ncols=7, nrows=2, figsize=(26, 10))\n",
    "index = 0\n",
    "axs = axs.flatten()\n",
    "for k,v in df.items():\n",
    "    sns.boxplot(y=k, x = 'loan_status', data=df, ax=axs[index],palette = 'Set1')\n",
    "    index += 1\n",
    "#plt.tight_layout(pad=0.5, w_pad=0.7, h_pad=5.0)"
   ]
  },
  {
   "cell_type": "code",
   "execution_count": null,
   "metadata": {},
   "outputs": [],
   "source": [
    "df.corrwith(df['loan_status']).sort_values(axis=0, ascending = False) # by default it is pearson correlation"
   ]
  },
  {
   "cell_type": "markdown",
   "metadata": {},
   "source": [
    "**We can pay attention to loan_percent_income and loan_int_rate as they correlate the most**"
   ]
  },
  {
   "cell_type": "code",
   "execution_count": null,
   "metadata": {},
   "outputs": [],
   "source": [
    "# Make lists of categorical columns and numerical columns\n",
    "#df['loan_status'] = df['loan_status'].astype('category', copy=False)\n",
    "categ_col = df.select_dtypes(include = ['object', 'category']).columns.tolist()\n",
    "num_col = df.select_dtypes(include='number').columns.tolist()"
   ]
  },
  {
   "cell_type": "code",
   "execution_count": null,
   "metadata": {},
   "outputs": [],
   "source": [
    "#loan_st = df['person_home_ownership'].value_counts(normalize = True)\n",
    "ax = df['person_home_ownership'].value_counts(normalize = True).plot(kind = 'bar', figsize =(15, 6))\n",
    "ax.bar_label(ax.containers[-1], label_type='edge', fontsize=20)\n",
    "plt.title(\"Proportion of Person Home Ownership\",fontsize=18)\n",
    "plt.show()"
   ]
  },
  {
   "cell_type": "code",
   "execution_count": null,
   "metadata": {},
   "outputs": [],
   "source": [
    "plot_df = df.groupby(['person_home_ownership', 'loan_status']).size().unstack(-1)\n",
    "plot_df = round(plot_df/plot_df.sum(), 4)#.sum()\n",
    "#plot_df/plot_df.sum()\n",
    "ax = plot_df.plot(kind = 'bar', figsize = (12, 6))\n",
    "ax.bar_label(ax.containers[-1], label_type='edge', fontsize=14)\n",
    "ax.bar_label(ax.containers[-2], label_type='edge', fontsize=14);"
   ]
  },
  {
   "cell_type": "code",
   "execution_count": null,
   "metadata": {},
   "outputs": [],
   "source": [
    "plot_df = df.groupby(['loan_intent', 'loan_status']).size().unstack(-1)\n",
    "plot_df = round(plot_df/plot_df.sum(), 4)#.sum()\n",
    "#plot_df/plot_df.sum()\n",
    "ax = plot_df.plot(kind = 'bar', figsize = (12, 6))\n",
    "ax.bar_label(ax.containers[-1], label_type='edge', fontsize=14)\n",
    "ax.bar_label(ax.containers[-2], label_type='edge', fontsize=14);"
   ]
  },
  {
   "cell_type": "code",
   "execution_count": null,
   "metadata": {},
   "outputs": [],
   "source": [
    "#loan_st = df['loan_intent'].value_counts(normalize = True)\n",
    "ax = df['loan_intent'].value_counts(normalize = True).plot(kind = 'bar', figsize =(12, 6))\n",
    "ax.bar_label(ax.containers[-1], label_type='edge', fontsize=20)\n",
    "plt.title(\"Propotion Of Loan Intent\",fontsize=16)\n",
    "plt.xticks(rotation = 0, fontsize=12)\n",
    "plt.show()"
   ]
  },
  {
   "cell_type": "code",
   "execution_count": null,
   "metadata": {},
   "outputs": [],
   "source": [
    "plot_df = df.groupby(['loan_intent', 'loan_status']).agg('size').unstack(-1)\n",
    "plot_df = plot_df/plot_df.iloc[:].sum()\n",
    "plot_df"
   ]
  },
  {
   "cell_type": "code",
   "execution_count": null,
   "metadata": {},
   "outputs": [],
   "source": [
    "plot_df = df.groupby(['loan_intent', 'loan_status']).agg('size').unstack(-1)\n",
    "plot_df = round(plot_df/plot_df.iloc[0:4].sum(), 4)#.sum()\n",
    "#plot_df/plot_df.sum()\n",
    "ax = plot_df.plot(kind = 'bar', figsize = (12, 6))\n",
    "ax.bar_label(ax.containers[-1], label_type='edge', fontsize=14)\n",
    "ax.bar_label(ax.containers[-2], label_type='edge', fontsize=14);"
   ]
  },
  {
   "cell_type": "code",
   "execution_count": null,
   "metadata": {},
   "outputs": [],
   "source": [
    "ax = df['loan_grade'].value_counts(normalize = True).plot(kind = 'bar', figsize =(15, 6), color = '#d62728')\n",
    "ax.bar_label(ax.containers[-1], label_type='edge', fontsize=20)\n",
    "plt.title(\"Propotion Of Loan Grade\",fontsize=16); plt.xticks(rotation = 0, fontsize=12); plt.show()"
   ]
  },
  {
   "cell_type": "code",
   "execution_count": null,
   "metadata": {},
   "outputs": [],
   "source": [
    "loan_st = df['cb_person_default_on_file'].value_counts(normalize = True)\n",
    "ax = loan_st.plot(kind = 'bar', figsize =(12, 5), color = '#1f77b4')\n",
    "ax.bar_label(ax.containers[-1], label_type='edge', fontsize=16)\n",
    "plt.title(\"Propotion Of CB Person Default On File\",fontsize=12); plt.xticks(rotation = 0, fontsize=12); plt.show()"
   ]
  },
  {
   "cell_type": "code",
   "execution_count": null,
   "metadata": {},
   "outputs": [],
   "source": [
    "# cat_col = ['person_home_ownership',\n",
    "#   'loan_intent',\n",
    "#   'loan_grade',\n",
    "#   'cb_person_default_on_file']\n",
    "# df[cat_col].mode()"
   ]
  },
  {
   "cell_type": "code",
   "execution_count": null,
   "metadata": {},
   "outputs": [],
   "source": [
    "fig, axes = plt.subplots(4,2, figsize = (34, 34))\n",
    "splot = sns.countplot('person_home_ownership', data = df, ax = axes[0,0], palette = 'Set1')\n",
    "for p in splot.patches:\n",
    "    splot.annotate(format(p.get_height(), '.2f'), (p.get_x() + p.get_width() / 2., p.get_height()),  ha = 'center', va = 'center', xytext = (0, 10), textcoords = 'offset points')\n",
    "\n",
    "splot = sns.countplot('person_home_ownership', hue = 'loan_status', data=df, ax = axes[0,1], palette = 'Dark2')\n",
    "for p in splot.patches:\n",
    "    splot.annotate(format(p.get_height(), '.2f'), (p.get_x() + p.get_width() / 2., p.get_height()),  ha = 'center', va = 'center', xytext = (0, 10), textcoords = 'offset points')\n",
    "\n",
    "splot = sns.countplot('loan_intent', data = df, ax = axes[1,0], palette = 'Set1')\n",
    "for p in splot.patches:\n",
    "    splot.annotate(format(p.get_height(), '.2f'), (p.get_x() + p.get_width() / 2., p.get_height()),  ha = 'center', va = 'center', xytext = (0, 10), textcoords = 'offset points')\n",
    "\n",
    "splot = sns.countplot('loan_intent', hue = 'loan_status', data=df, ax = axes[1,1], palette = 'Dark2')\n",
    "for p in splot.patches:\n",
    "    splot.annotate(format(p.get_height(), '.2f'), (p.get_x() + p.get_width() / 2., p.get_height()),  ha = 'center', va = 'center', xytext = (0, 10), textcoords = 'offset points')\n",
    "\n",
    "splot = sns.countplot('loan_grade', data = df, ax = axes[2,0], palette = 'Set1')\n",
    "for p in splot.patches:\n",
    "    splot.annotate(format(p.get_height(), '.2f'), (p.get_x() + p.get_width() / 2., p.get_height()),  ha = 'center', va = 'center', xytext = (0, 10), textcoords = 'offset points')\n",
    "\n",
    "splot = sns.countplot('loan_grade', hue = 'loan_status', data=df, ax = axes[2,1], palette = 'Dark2')\n",
    "for p in splot.patches:\n",
    "    splot.annotate(format(p.get_height(), '.2f'), (p.get_x() + p.get_width() / 2., p.get_height()),  ha = 'center', va = 'center', xytext = (0, 10), textcoords = 'offset points')\n",
    "\n",
    "splot = sns.countplot('cb_person_default_on_file', data = df, ax = axes[3,0], palette = 'Set1')\n",
    "for p in splot.patches:\n",
    "    splot.annotate(format(p.get_height(), '.2f'), (p.get_x() + p.get_width() / 2., p.get_height()),  ha = 'center', va = 'center', xytext = (0, 10), textcoords = 'offset points')\n",
    "\n",
    "splot = sns.countplot('cb_person_default_on_file', hue = 'loan_status', data=df, ax = axes[3,1], palette = 'Dark2')\n",
    "for p in splot.patches:\n",
    "    splot.annotate(format(p.get_height(), '.2f'), (p.get_x() + p.get_width() / 2., p.get_height()),  ha = 'center', va = 'center', xytext = (0, 10), textcoords = 'offset points')\n"
   ]
  },
  {
   "cell_type": "markdown",
   "metadata": {},
   "source": [
    "## <div class=\"alert alert-block alert-success\"><b>Statistics</div>"
   ]
  },
  {
   "cell_type": "code",
   "execution_count": null,
   "metadata": {},
   "outputs": [],
   "source": [
    "df_num = df.select_dtypes(include = 'number')\n",
    "df_cat = df.select_dtypes(include = ['object', 'category'])\n",
    "df_num.shape, df_cat.shape"
   ]
  },
  {
   "cell_type": "code",
   "execution_count": null,
   "metadata": {},
   "outputs": [],
   "source": [
    "df_num.columns; df_cat.columns;"
   ]
  },
  {
   "cell_type": "code",
   "execution_count": null,
   "metadata": {},
   "outputs": [],
   "source": [
    "# #df['loan_status'] = df['loan_status'].astype('int32')\n",
    "# plt.figure(figsize = (16, 8))\n",
    "# plt.title('Credit Risk Correlation plot (Pearson)')\n",
    "# corr = df.corr()\n",
    "# sns.heatmap(corr, xticklabels = corr.columns, yticklabels = corr.columns, \n",
    "#             annot = True, mask = np.triu(np.ones_like(df.corr(), dtype = bool)), \n",
    "#             linewidths = .1, cmap = sns.diverging_palette(230, 20))\n",
    "# plt.show()"
   ]
  },
  {
   "cell_type": "code",
   "execution_count": null,
   "metadata": {},
   "outputs": [],
   "source": [
    "#mask = np.triu(np.ones_like(df.corr(), dtype = bool))\n",
    "plt.figure(figsize = (16, 8))\n",
    "plt.title('Credit Risk Correlation plot (Pearson)')\n",
    "sns.heatmap(df.corr(), annot = True, mask = np.triu(np.ones_like(df.corr(), dtype = bool)), cmap = sns.diverging_palette(230, 20));"
   ]
  },
  {
   "cell_type": "markdown",
   "metadata": {},
   "source": [
    "**Correlations between features are not high**"
   ]
  },
  {
   "cell_type": "code",
   "execution_count": null,
   "metadata": {},
   "outputs": [],
   "source": [
    "cor = df.corr()\n",
    "cor[((cor >= .5) | (cor<= -.5))]"
   ]
  },
  {
   "cell_type": "code",
   "execution_count": null,
   "metadata": {},
   "outputs": [],
   "source": [
    "fig, axs = plt.subplots(ncols=4, nrows=2, figsize=(20, 10))\n",
    "index = 0\n",
    "axs = axs.flatten()\n",
    "for k,v in df_num.items():\n",
    "    sns.distplot(v, ax=axs[index])\n",
    "    index += 1\n",
    "plt.tight_layout(pad=0.4, w_pad=0.5, h_pad=5.0)"
   ]
  },
  {
   "cell_type": "code",
   "execution_count": null,
   "metadata": {},
   "outputs": [],
   "source": [
    "# Visualizing the distribution of observations in a dataset (analogous to a histogram.) \n",
    "# KDE represents the data using a continuous probability density curve \n",
    "fig, axes = plt.subplots(4,2, figsize = (24, 14)); axes = axes.ravel() \n",
    "cols =df_num.columns[:]\n",
    "for col, ax in zip(cols, axes):\n",
    "    data = df_num\n",
    "    sns.kdeplot(data=data, x=col, shade=True, ax = ax, palette = 'Set1')\n",
    "    ax.set(title=f'Distribution of Variable: {col}', xlabel=None)\n",
    "#fig.delaxes(axes[8])\n",
    "ax.xaxis.label.set_size(20); fig.tight_layout(pad=0.4, w_pad=0.5, h_pad=5.0); plt.show()"
   ]
  },
  {
   "cell_type": "code",
   "execution_count": null,
   "metadata": {},
   "outputs": [],
   "source": [
    "# Visualizing categorical variables with Loan status color  encoding\n",
    "fig, axes = plt.subplots(2,2, figsize = (24, 14))\n",
    "axes = axes.ravel() \n",
    "cols =df_cat.columns[:]\n",
    "for col, ax in zip(cols, axes):\n",
    "    data = df\n",
    "    sns.histplot(data=data, x=col, ax = ax, bins=20, hue= 'loan_status',palette = 'Set1')\n",
    "    ax.set(title=f'Distribution of Variable: {col}', xlabel=None)\n",
    "\n",
    "#fig.delaxes(axes[8])\n",
    "ax.xaxis.label.set_size(20)\n",
    "fig.tight_layout()\n",
    "plt.show()"
   ]
  },
  {
   "cell_type": "code",
   "execution_count": null,
   "metadata": {},
   "outputs": [],
   "source": [
    "df_num.skew()"
   ]
  },
  {
   "cell_type": "code",
   "execution_count": null,
   "metadata": {},
   "outputs": [],
   "source": [
    "fig, axes = plt.subplots(8, 1, figsize = (20, 14))\n",
    "axes = axes.ravel() \n",
    "cols =df.select_dtypes(include = [np.number]).columns[:]\n",
    "\n",
    "for col, ax in zip(cols, axes):\n",
    "    data = df.select_dtypes(include = [np.number])\n",
    "    sns.boxplot(data=data, x=col, ax = ax, palette = 'Set1')\n",
    "    ax.set(title=f'Distribution of Variable: {col}', xlabel=None)\n",
    "#fig.delaxes(axes[8])\n",
    "fig.tight_layout()\n",
    "plt.show()"
   ]
  },
  {
   "cell_type": "code",
   "execution_count": null,
   "metadata": {},
   "outputs": [],
   "source": [
    "# def remove_outlier(df_in, col_name):\n",
    "#     q1 = df_in[col_name].quantile(0.25)\n",
    "#     q3 = df_in[col_name].quantile(0.75)\n",
    "#     iqr = q3-q1 #Interquartile range\n",
    "#     fence_low  = q1-1.5*iqr\n",
    "#     fence_high = q3+1.5*iqr\n",
    "#     df_out = df_in.loc[(df_in[col_name] > fence_low) & (df_in[col_name] < fence_high)]\n",
    "#     return df_out"
   ]
  },
  {
   "cell_type": "code",
   "execution_count": null,
   "metadata": {},
   "outputs": [],
   "source": [
    "# # Treating outliers\n",
    "# def outlier_detect(df):\n",
    "#     for i in df.describe().columns:\n",
    "#         Q1=df.describe().at['25%',i]\n",
    "#         Q3=df.describe().at['75%',i]\n",
    "#         IQR=Q3 - Q1\n",
    "#         LTV=Q1 - 1.5 * IQR\n",
    "#         UTV=Q3 + 1.5 * IQR\n",
    "#         x=np.array(df[i])\n",
    "#         p=[]\n",
    "#         for j in x:\n",
    "#             if j < LTV or j>UTV:\n",
    "#                 p.append(df[i].median())\n",
    "#             else:\n",
    "#                 p.append(j)\n",
    "#         df[i]=p\n",
    "#     return df"
   ]
  },
  {
   "cell_type": "code",
   "execution_count": null,
   "metadata": {},
   "outputs": [],
   "source": [
    "# df_outliers = df_num[['person_age',\n",
    "#   'person_income',\n",
    "#   'person_emp_length',\n",
    "#   'loan_amnt',\n",
    "#   'loan_int_rate',\n",
    "  \n",
    "#   'loan_percent_income',\n",
    "#   'cb_person_cred_hist_length']]"
   ]
  },
  {
   "cell_type": "code",
   "execution_count": null,
   "metadata": {},
   "outputs": [],
   "source": [
    "# df_outlier_clean = outlier_detect(df_outliers)\n",
    "# df_outlier_clean.head(2)"
   ]
  },
  {
   "cell_type": "code",
   "execution_count": null,
   "metadata": {},
   "outputs": [],
   "source": [
    "# fig, axes = plt.subplots(8, 1, figsize = (34, 54))\n",
    "# axes = axes.ravel() \n",
    "# cols =df_outlier_clean.columns[:]\n",
    "\n",
    "# for col, ax in zip(cols, axes):\n",
    "#     data = df_outlier_clean\n",
    "#     sns.boxplot(data=data, x=col, ax = ax, palette = 'Set1')\n",
    "#     ax.set(title=f'Distribution of Variable: {col}', xlabel=None)\n",
    "# #fig.delaxes(axes[8])\n",
    "# fig.tight_layout()\n",
    "# plt.show()"
   ]
  },
  {
   "cell_type": "code",
   "execution_count": null,
   "metadata": {},
   "outputs": [],
   "source": [
    "#df_outlier_clean.head()"
   ]
  },
  {
   "cell_type": "code",
   "execution_count": null,
   "metadata": {},
   "outputs": [],
   "source": [
    "# Pairplot with outliers\n",
    "#df['loan_status'] = df['loan_status'].astype()\n",
    "sns.pairplot(df,hue=\"loan_status\")"
   ]
  },
  {
   "cell_type": "code",
   "execution_count": null,
   "metadata": {},
   "outputs": [],
   "source": [
    "# df_clean = df_outlier_clean.join(df_cat)\n",
    "# df_clean.shape"
   ]
  },
  {
   "cell_type": "code",
   "execution_count": null,
   "metadata": {},
   "outputs": [],
   "source": [
    "# df_all = df_clean.join(df_num['loan_status'])\n",
    "# df_all.isnull().sum()"
   ]
  },
  {
   "cell_type": "code",
   "execution_count": null,
   "metadata": {},
   "outputs": [],
   "source": [
    "#df_all = df_all.fillna(df_all.median())"
   ]
  },
  {
   "cell_type": "code",
   "execution_count": null,
   "metadata": {},
   "outputs": [],
   "source": [
    "# Pairplot without outliers\n",
    "#sns.pairplot(df_all, hue=\"loan_status\")"
   ]
  },
  {
   "cell_type": "code",
   "execution_count": null,
   "metadata": {},
   "outputs": [],
   "source": [
    "# cross_loan_income = pd.crosstab(index = df_all['bin_loan_percent_income'], columns = df_all['loan_percent_income'], normalize = 'columns').round(4)*100\n",
    "# cross_loan_income"
   ]
  },
  {
   "cell_type": "code",
   "execution_count": null,
   "metadata": {},
   "outputs": [],
   "source": [
    "# w = df_all['bin_loan_percent_income'].value_counts()\n",
    "# w"
   ]
  },
  {
   "cell_type": "code",
   "execution_count": null,
   "metadata": {},
   "outputs": [],
   "source": [
    "# cross_index = pd.crosstab(index = df_all['loan_intent'], columns = df_all['loan_grade'], normalize='index').round(4)*100\n",
    "# cross_index"
   ]
  },
  {
   "cell_type": "code",
   "execution_count": null,
   "metadata": {},
   "outputs": [],
   "source": [
    "# cross_df = pd.crosstab(index = df_all['loan_intent'], columns = df_all['loan_grade'], margins=True, margins_name='Total', normalize = True).round(4) * 100\n",
    "# cross_df"
   ]
  },
  {
   "cell_type": "code",
   "execution_count": null,
   "metadata": {},
   "outputs": [],
   "source": [
    "# cross_col = pd.crosstab(index = df_all['loan_intent'], columns = df_all['loan_status'], normalize = 'index').round(4)*100\n",
    "# cross_col"
   ]
  },
  {
   "cell_type": "code",
   "execution_count": null,
   "metadata": {},
   "outputs": [],
   "source": [
    "#df_num.loan_status.value_counts()"
   ]
  },
  {
   "cell_type": "code",
   "execution_count": null,
   "metadata": {},
   "outputs": [],
   "source": [
    "# cross_hist_length = pd.crosstab(index = df_all['cb_person_cred_hist_length'], columns = df_all['loan_status'], normalize ='index').round(4)*100\n",
    "# cross_hist_length.T"
   ]
  },
  {
   "cell_type": "code",
   "execution_count": null,
   "metadata": {},
   "outputs": [],
   "source": [
    "# cross_hist_length.plot(kind = 'line')\n",
    "# cross_hist_length.plot(kind = 'area')\n"
   ]
  },
  {
   "cell_type": "code",
   "execution_count": null,
   "metadata": {},
   "outputs": [],
   "source": [
    "# corr_matrix = df.corr(method = 'pearson')\n",
    "# corr_matrix.style.background_gradient(cmap = 'coolwarm')"
   ]
  },
  {
   "cell_type": "code",
   "execution_count": null,
   "metadata": {},
   "outputs": [],
   "source": [
    "plt.figure(figsize=(10, 5))\n",
    "plt.xticks(rotation=75)\n",
    "plt.title('Age by Ownership')\n",
    "sns.barplot(x=df_all['person_home_ownership'], y = df_all['person_age'])"
   ]
  },
  {
   "cell_type": "code",
   "execution_count": null,
   "metadata": {},
   "outputs": [],
   "source": [
    "plt.figure(figsize=(10, 5))\n",
    "plt.xticks(rotation=75)\n",
    "plt.title('Relationship between Income and Loan Grade' )\n",
    "sns.barplot(x=df_all['person_income'], y = df_all['loan_grade'])"
   ]
  },
  {
   "cell_type": "code",
   "execution_count": null,
   "metadata": {},
   "outputs": [],
   "source": [
    "# make long feature names shorter\n",
    "df_ml= df_all.rename(columns = {\"cb_person_default_on_file\":\"default_hist\", \"cb_person_cred_hist_length\": \"cr_hist_len\"})"
   ]
  },
  {
   "cell_type": "code",
   "execution_count": null,
   "metadata": {},
   "outputs": [],
   "source": [
    "# percentage of null values from loan int rate col\n",
    "df_ml.loan_int_rate.isnull().sum() / df_ml.shape[0]"
   ]
  },
  {
   "cell_type": "code",
   "execution_count": null,
   "metadata": {},
   "outputs": [],
   "source": [
    "# df_ml['person_emp_length'].fillna((df_ml['person_emp_length'].median()), inplace=True)\n",
    "# df_ml['loan_int_rate'].fillna((df_ml['loan_int_rate'].median()), inplace = True)"
   ]
  },
  {
   "cell_type": "code",
   "execution_count": null,
   "metadata": {},
   "outputs": [],
   "source": [
    "num_col = df_ml.select_dtypes(include = 'number')\n",
    "char_col = df_ml.select_dtypes(include = ['object', 'category'])"
   ]
  },
  {
   "cell_type": "code",
   "execution_count": null,
   "metadata": {},
   "outputs": [],
   "source": [
    "num_col.drop('loan_percent_income', axis = 1, inplace = True)"
   ]
  },
  {
   "cell_type": "code",
   "execution_count": null,
   "metadata": {},
   "outputs": [],
   "source": [
    "num_col"
   ]
  },
  {
   "cell_type": "code",
   "execution_count": null,
   "metadata": {},
   "outputs": [],
   "source": [
    "encoded_char_col = pd.get_dummies(char_col)"
   ]
  },
  {
   "cell_type": "code",
   "execution_count": null,
   "metadata": {},
   "outputs": [],
   "source": [
    "cr_clean2 = pd.concat([num_col, encoded_char_col], axis=1)\n",
    "cr_clean2.tail(2)"
   ]
  },
  {
   "cell_type": "code",
   "execution_count": null,
   "metadata": {},
   "outputs": [],
   "source": [
    "# cr_clean3 = num_col.join(encoded_char_col)\n",
    "# cr_clean3"
   ]
  },
  {
   "cell_type": "markdown",
   "metadata": {},
   "source": [
    "## <div class=\"alert alert-block alert-success\"><b>Model</div>"
   ]
  },
  {
   "cell_type": "markdown",
   "metadata": {},
   "source": [
    " When normalizing the features, it is important to store the values used for normalization - the mean value and the standard deviation used for the computations. After learning the parameters from the model, we often want to predict the prices of houses we have not seen before. Given a new x value (living room area and number of bed- rooms), we must first normalize x using the mean and standard deviation that we had previously computed from the training set."
   ]
  },
  {
   "cell_type": "code",
   "execution_count": null,
   "metadata": {
    "execution": {
     "iopub.execute_input": "2023-02-25T11:23:13.795318Z",
     "iopub.status.busy": "2023-02-25T11:23:13.794898Z",
     "iopub.status.idle": "2023-02-25T11:23:13.918405Z",
     "shell.execute_reply": "2023-02-25T11:23:13.916368Z",
     "shell.execute_reply.started": "2023-02-25T11:23:13.795278Z"
    }
   },
   "outputs": [],
   "source": [
    "from sklearn import model_selection,linear_model, metrics\n",
    "from sklearn.metrics import accuracy_score\n",
    "from sklearn.decomposition import PCA\n",
    "from sklearn.preprocessing import MinMaxScaler\n",
    "import xgboost as xgb"
   ]
  },
  {
   "cell_type": "code",
   "execution_count": null,
   "metadata": {
    "execution": {
     "iopub.execute_input": "2023-02-25T11:23:14.293614Z",
     "iopub.status.busy": "2023-02-25T11:23:14.293215Z",
     "iopub.status.idle": "2023-02-25T11:23:14.300557Z",
     "shell.execute_reply": "2023-02-25T11:23:14.299673Z",
     "shell.execute_reply.started": "2023-02-25T11:23:14.293581Z"
    }
   },
   "outputs": [],
   "source": [
    "df_cat.columns"
   ]
  },
  {
   "cell_type": "code",
   "execution_count": null,
   "metadata": {
    "execution": {
     "iopub.execute_input": "2023-02-25T11:23:15.578114Z",
     "iopub.status.busy": "2023-02-25T11:23:15.577493Z",
     "iopub.status.idle": "2023-02-25T11:23:15.633951Z",
     "shell.execute_reply": "2023-02-25T11:23:15.631952Z",
     "shell.execute_reply.started": "2023-02-25T11:23:15.578072Z"
    }
   },
   "outputs": [],
   "source": [
    "df_cat = pd.get_dummies(df.select_dtypes(include = ['object', 'category']))\n",
    "df = pd.concat([df_num, df_cat], axis=1)"
   ]
  },
  {
   "cell_type": "code",
   "execution_count": null,
   "metadata": {},
   "outputs": [],
   "source": [
    "# Split Train and Test Sets\n",
    "# Y = cr_clean2['loan_status']\n",
    "# X = cr_clean2.drop('loan_status',axis=1)\n",
    "Y = df['loan_status']\n",
    "X = df.drop(['loan_status'], axis = 1)\n",
    "#one_hot_encoded_training_predictors = pd.get_dummies\n",
    "x_train, x_test, y_train, y_test = model_selection.train_test_split(X, Y, random_state=2020, test_size=.32)\n",
    "log_clf = linear_model.LogisticRegression()\n",
    "log_clf.fit(x_train, np.ravel(y_train))"
   ]
  },
  {
   "cell_type": "code",
   "execution_count": null,
   "metadata": {},
   "outputs": [],
   "source": [
    "Y = test\n",
    "X = df.drop(['loan_status'], axis = 1)\n",
    "#one_hot_encoded_training_predictors = pd.get_dummies\n",
    "x_train, x_test, y_train, y_test = model_selection.train_test_split(X, Y, random_state=2020, test_size=.32)\n",
    "log_clf = linear_model.LogisticRegression()\n",
    "log_clf.fit(x_train, np.ravel(y_train))"
   ]
  },
  {
   "cell_type": "code",
   "execution_count": null,
   "metadata": {},
   "outputs": [],
   "source": [
    "y_pred = log_clf.predict(x_test)\n",
    "score =accuracy_score(y_test,y_pred)\n",
    "score"
   ]
  },
  {
   "cell_type": "code",
   "execution_count": null,
   "metadata": {},
   "outputs": [],
   "source": [
    "pca_accuracy = round(log_clf.score(x_test,y_test),6)\n",
    "pca_accuracy"
   ]
  },
  {
   "cell_type": "code",
   "execution_count": null,
   "metadata": {},
   "outputs": [],
   "source": [
    "confusion_matrix = metrics.confusion_matrix(y_test, y_pred)\n",
    "confusion_matrix"
   ]
  },
  {
   "cell_type": "markdown",
   "metadata": {},
   "source": [
    "**Let's display probabilities of default**"
   ]
  },
  {
   "cell_type": "code",
   "execution_count": null,
   "metadata": {},
   "outputs": [],
   "source": [
    "prob_default = pd.DataFrame(log_clf.predict_proba(x_test)[:, 1], columns = ['prob_default'])\n",
    "prob_default.head(2)"
   ]
  },
  {
   "cell_type": "code",
   "execution_count": null,
   "metadata": {},
   "outputs": [],
   "source": [
    "prediction_default = pd.concat([y_test.reset_index(drop=True), prob_default], axis = 1)\n",
    "prediction_default"
   ]
  },
  {
   "cell_type": "code",
   "execution_count": null,
   "metadata": {},
   "outputs": [],
   "source": [
    "result = x_test.join(y_test)\n",
    "result.iloc[:,3].shape"
   ]
  },
  {
   "cell_type": "code",
   "execution_count": null,
   "metadata": {},
   "outputs": [],
   "source": [
    "col_effect = pd.DataFrame()\n",
    "col_effect['col_names'] = X.columns\n",
    "col_effect['col_coef'] = log_clf.coef_[0]\n",
    "col_effect.sort_values(by='col_coef', ascending=False)"
   ]
  },
  {
   "cell_type": "markdown",
   "metadata": {},
   "source": [
    "**If a coefficient is more positive, the person is more likely to default on the loan, when the coefficient is more negative the person is less likely to default.**"
   ]
  },
  {
   "cell_type": "code",
   "execution_count": null,
   "metadata": {},
   "outputs": [],
   "source": [
    "# pd.DataFrame(log_clf.coef_[0],\n",
    "#             X.columns,\n",
    "#             columns = ['coef']).sort_values(by='coef', ascending=False)"
   ]
  },
  {
   "cell_type": "code",
   "execution_count": null,
   "metadata": {},
   "outputs": [],
   "source": [
    "int_val = float(log_clf.intercept_)\n",
    "print('The overall probablity of non default is {:.3%}'.format(int_val))"
   ]
  },
  {
   "cell_type": "code",
   "execution_count": null,
   "metadata": {},
   "outputs": [],
   "source": [
    "int_val"
   ]
  },
  {
   "cell_type": "code",
   "execution_count": null,
   "metadata": {},
   "outputs": [],
   "source": [
    "# scaler = MinMaxScaler(feature_range=[0, 1])\n",
    "# data_rescaled = scaler.fit_transform(num_col)\n",
    "\n",
    "# #Fitting the PCA algorithm with our Data\n",
    "# pca = PCA().fit(data_rescaled)\n",
    "# #Plotting the Cumulative Summation of the Explained Variance\n",
    "# plt.figure()\n",
    "# plt.plot(np.cumsum(pca.explained_variance_ratio_))\n",
    "# plt.xlabel('Number of Components')\n",
    "# plt.ylabel('Variance (%)') #for each component\n",
    "# plt.title('Hotel Booking Dataset Explained Variance')\n",
    "# plt.show()"
   ]
  },
  {
   "cell_type": "code",
   "execution_count": null,
   "metadata": {},
   "outputs": [],
   "source": [
    "# random forest paraeters tuned using optuna. Code down below\n",
    "random_forest_parameters = {'n_estimators': 102, 'max_depth': 5, 'min_samples_split': 5, 'min_samples_leaf': 3}\n",
    "\n",
    "\n",
    "# choosing model\n",
    "model_name = RandomForestClassifier(n_jobs=-1, random_state=random_seed, **random_forest_parameters)\n",
    "\n",
    "# giving all values to pipeline\n",
    "rf_pipe = make_pipeline(preprocessor,model_name)"
   ]
  },
  {
   "cell_type": "code",
   "execution_count": null,
   "metadata": {},
   "outputs": [],
   "source": [
    "x_train, x_test, y_train, y_test = model_selection.train_test_split(X, Y, random_state=2020, test_size=.30)\n",
    "#Start of gradient boosted tree\n",
    "xgb_model = xgb.XGBClassifier() # initialize tree\n",
    "\n",
    "xgb_model.fit(x_train, np.ravel(y_train)) # train tree\n",
    "\n",
    "predict_xgb = xgb_model.predict_proba(x_test) # 1st col = pred val, 2nd col = pred prob\n",
    "predict_xgb_prob = pd.DataFrame(predict_xgb[:,1],columns = ['Default Probability'])\n",
    "pd.concat([predict_xgb_prob, y_test.reset_index(drop=True)],axis=1)"
   ]
  },
  {
   "cell_type": "code",
   "execution_count": null,
   "metadata": {},
   "outputs": [],
   "source": [
    "pca_accuracy = round(xgb_model.score(x_test,y_test),6)\n",
    "pca_accuracy"
   ]
  },
  {
   "cell_type": "code",
   "execution_count": null,
   "metadata": {},
   "outputs": [],
   "source": []
  }
 ],
 "metadata": {
  "kernelspec": {
   "display_name": "Python 3 (ipykernel)",
   "language": "python",
   "name": "python3"
  },
  "language_info": {
   "codemirror_mode": {
    "name": "ipython",
    "version": 3
   },
   "file_extension": ".py",
   "mimetype": "text/x-python",
   "name": "python",
   "nbconvert_exporter": "python",
   "pygments_lexer": "ipython3",
   "version": "3.9.13"
  }
 },
 "nbformat": 4,
 "nbformat_minor": 4
}
